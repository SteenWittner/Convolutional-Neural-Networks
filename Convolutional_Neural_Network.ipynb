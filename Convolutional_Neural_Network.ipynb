{
 "cells": [
  {
   "cell_type": "markdown",
   "id": "ba2a796b-ffc1-4f7e-80b1-d9516bb9be37",
   "metadata": {},
   "source": [
    "# Convolutional Neural Networks"
   ]
  },
  {
   "cell_type": "markdown",
   "id": "5f4bc6c5-72d9-4e34-8d01-d131124d85a9",
   "metadata": {},
   "source": [
    "## Setup\n",
    "1. Öffne das Notebook in **Google Colab**! Google Colab bietet eine Option für kostenlose GPU- und TPU-runtime. Dies wird die Trainingszeiten Ihres Modells erheblich reduzieren.\n",
    "   1. Gehe auf https://colab.google/ und clicke auf \"Open Colab\" (oder \"Sign Up\" falls noch kein account existiert)\n",
    "   2. Clicke auf \"File\", dann \"Upload Notebook\" und selektiere dieses Notebook\n",
    "   3. Click auf \"Runtime\", dann \"Change runtime type\" und selektiere \"T4 GPU\"\n",
    "4. Führe alle Imports in durch und installiere ggf. fehlende Pakete\n",
    "5. Führe den zweiten Setup Abschnitt aus, sodass alle nötigen Funktionen erstellt werden\n",
    "6. Führe den dritten Setup Abschnitt aus, sodass alle Daten geladen und bearbeitet werden "
   ]
  },
  {
   "cell_type": "markdown",
   "id": "527fc0eb-5f44-4f93-b5f4-d33ebec84699",
   "metadata": {},
   "source": [
    "### 1. Import"
   ]
  },
  {
   "cell_type": "code",
   "execution_count": null,
   "id": "75e116b5-b8ad-45d9-8f9d-b5008d6738ff",
   "metadata": {},
   "outputs": [],
   "source": [
    "import sys\n",
    "assert sys.version_info >= (3, 5)\n",
    "\n",
    "import sklearn\n",
    "assert sklearn.__version__ >= \"0.20\"\n",
    "from sklearn.metrics import ConfusionMatrixDisplay\n",
    "from sklearn.metrics import classification_report, confusion_matrix\n",
    "\n",
    "import tensorflow as tf\n",
    "from tensorflow import keras\n",
    "from tensorflow.keras import datasets, layers, models\n",
    "from keras.utils import to_categorical\n",
    "assert tf.__version__ >= \"2.0\"\n",
    "\n",
    "import numpy as np\n",
    "import os\n",
    "\n",
    "seed = 42\n",
    "np.random.seed(seed)\n",
    "tf.random.set_seed(seed)\n",
    "\n",
    "%matplotlib inline\n",
    "import matplotlib as mpl\n",
    "import matplotlib.pyplot as plt"
   ]
  },
  {
   "cell_type": "markdown",
   "id": "1ae4f106-591d-498d-8344-41ca9896ce12",
   "metadata": {},
   "source": [
    "### 2. Funktionen"
   ]
  },
  {
   "cell_type": "code",
   "execution_count": null,
   "id": "29a01e29-4e5e-4ebd-8edb-9c3f765c487f",
   "metadata": {},
   "outputs": [],
   "source": [
    "def plot_images(images, labels):\n",
    "    indices = np.arange(len(images))\n",
    "    np.random.shuffle(indices)\n",
    "\n",
    "    sample_images = images[indices]\n",
    "    sample_labels = labels[indices]\n",
    "    \n",
    "    Height = 5\n",
    "    Width = 5\n",
    "    \n",
    "    fig, axes = plt.subplots(Height, Width, figsize = (17,17))\n",
    "\n",
    "    for IMG_INDEX, ax in enumerate(axes.flat):\n",
    "            ax.imshow(sample_images[IMG_INDEX])\n",
    "            ax.set_title(class_names[sample_labels[IMG_INDEX][0]])\n",
    "            ax.axis('off')\n",
    "        \n",
    "    plt.tight_layout()\n",
    "    plt.show()\n",
    "\n",
    "def plot_preprocessed_images(model, images):\n",
    "    preprocessed_images = model(images)\n",
    "    preprocessed_images = preprocessed_images.numpy()\n",
    "    indices = np.arange(len(preprocessed_images))\n",
    "    np.random.shuffle(indices)\n",
    "    preprocessed_images = preprocessed_images[indices]\n",
    "    fig, axes = plt.subplots(5, 5, figsize = (17,17))\n",
    "    \n",
    "    for IMG_INDEX, ax in enumerate(axes.flat):\n",
    "            ax.imshow(preprocessed_images[IMG_INDEX])\n",
    "            ax.axis('off')\n",
    "        \n",
    "    plt.tight_layout()\n",
    "    plt.show()  \n",
    "\n",
    "def plot_history(history):\n",
    "    plt.figure(figsize=(12, 16))\n",
    "\n",
    "    plt.subplot(4, 2, 1)\n",
    "    plt.plot(history.history['loss'], label='Loss')\n",
    "    plt.plot(history.history['val_loss'], label='val_Loss')\n",
    "    plt.title('Loss Function Evolution')\n",
    "    plt.legend()\n",
    "\n",
    "    plt.subplot(4, 2, 2)\n",
    "    plt.plot(history.history['accuracy'], label='accuracy')\n",
    "    plt.plot(history.history['val_accuracy'], label='val_accuracy')\n",
    "    plt.title('Accuracy Function Evolution')\n",
    "    plt.legend()\n",
    "\n",
    "def plot_confusion(model, images, labels, class_names):\n",
    "    y_pred = model.predict(images)\n",
    "    y_pred1 = np.argmax(y_pred, axis=1)\n",
    "    cm = confusion_matrix(labels, y_pred1)\n",
    "    disp = ConfusionMatrixDisplay(confusion_matrix=cm, display_labels=class_names)\n",
    "    fig, ax = plt.subplots(figsize=(10, 10))\n",
    "    disp = disp.plot(xticks_rotation='vertical', ax=ax,cmap='summer')\n",
    "\n",
    "def plot_predictions(model, test_images, test_labels, class_names, num_samples=15):\n",
    "    indices = np.arange(len(test_images))\n",
    "    np.random.shuffle(indices)\n",
    "    \n",
    "    sample_images = test_images[indices]\n",
    "    sample_labels = test_labels[indices]\n",
    "\n",
    "    predictions = model.predict(sample_images)\n",
    "\n",
    "    fig, axs = plt.subplots((num_samples + 2) // 3, 6, figsize=(12, 12))\n",
    "\n",
    "    for i in range(num_samples):\n",
    "        row = i // 3\n",
    "        col = (i % 3) * 2\n",
    "        \n",
    "        prediction = predictions[i]\n",
    "        axs[row, col].imshow(sample_images[i])\n",
    "        axs[row, col].axis('off')\n",
    "        axs[row, col].set_title(f'{class_names[np.argmax(prediction)]} {prediction[np.argmax(prediction)]*100:.2f}% ({class_names[sample_labels[i][0]]})', fontsize=10)\n",
    "\n",
    "        color = ['green' if j == sample_labels[i][0] else 'blue' for j in range(len(class_names))]\n",
    "        if np.argmax(prediction) != sample_labels[i][0]:\n",
    "            color[np.argmax(prediction)] = 'red'\n",
    "            \n",
    "        axs[row, col + 1].bar(range(len(class_names)), predictions[i] * 100, color=color)\n",
    "        axs[row, col + 1].set_xticks(range(len(class_names)))\n",
    "        \n",
    "    plt.tight_layout()\n",
    "    plt.show()\n",
    "\n"
   ]
  },
  {
   "cell_type": "markdown",
   "id": "922c84f1-1c31-4358-9d80-44aa22f2bb5c",
   "metadata": {},
   "source": [
    "### 3. Daten (CIFAR10)"
   ]
  },
  {
   "cell_type": "code",
   "execution_count": null,
   "id": "8552fbd3-e155-44c4-9e5f-edaf50974028",
   "metadata": {},
   "outputs": [],
   "source": [
    "#CIFAR10 Dataset, split into a training, testing, and validation set\n",
    "(train_images, train_labels), (test_images, test_labels) = datasets.cifar10.load_data()\n",
    "\n",
    "#Create validation set\n",
    "validation_size = 2000\n",
    "validation_images = test_images[:validation_size]\n",
    "validation_labels = test_labels[:validation_size]\n",
    "test_images = test_images[validation_size:]\n",
    "test_labels = test_labels[validation_size:]\n",
    "    \n",
    "\n",
    "#Normalize pixels to range 0-1\n",
    "train_images = train_images.astype('float32') / 255.0\n",
    "test_images = test_images.astype('float32') / 255.0\n",
    "validation_images = validation_images.astype('float32') / 255.0\n",
    "\n",
    "\n",
    "#Class_names\n",
    "class_names = ['airplane', 'automobile', 'bird', 'cat', 'deer', 'dog', 'frog', 'horse', 'ship', 'truck']"
   ]
  },
  {
   "cell_type": "markdown",
   "id": "23b10f12-861c-434b-9cbb-d611c8f51af9",
   "metadata": {},
   "source": [
    "## Aufgabe\n",
    "Gehe die unteren Abschnitte schrittweise durch. Sollten einige der Tensorflow Funktionen unbekannt sein, schau dir die Dokumentation an: https://www.tensorflow.org/guide"
   ]
  },
  {
   "cell_type": "markdown",
   "id": "bbdc77ea-dce9-4abe-a6e8-eb5c52b2631a",
   "metadata": {},
   "source": [
    "### Abschnitt 1. Image Preprocessing\n",
    "\n",
    "**Aufgabe**: Erstelle ein preprocessing Modell (Optional. Kann die Modellgenauigkeit erhöhen, erhöht jedoch auch die Trainingszeit)\n",
    "\n",
    "Schaue dir dazu die Bilder mit der unteren Funktion an. Welche preprocessing layers wären für die Bilder sinnvoll? "
   ]
  },
  {
   "cell_type": "code",
   "execution_count": null,
   "id": "130d52c7-fcf4-4e85-91b6-727bdab5ac6f",
   "metadata": {},
   "outputs": [],
   "source": [
    "plot_images(train_images, train_labels)"
   ]
  },
  {
   "cell_type": "markdown",
   "id": "c475f8be-2fa0-4402-aa6f-75fe95dbc1e0",
   "metadata": {},
   "source": [
    "**Funktionen**\n",
    "1. [layers.RandomTranslation(height_factor, width_factor, fill_mode)](https://www.tensorflow.org/api_docs/python/tf/keras/layers/RandomTranslation)\n",
    "    * height_factor/width_factor: Zahl zwischen 0 & 1, gibt den Anteil an, um welchen das Bild verschoben wird (z.B. 0.2 = Bild wird um +-20% verschoben)\n",
    "    * fill_mode: \"reflect\", \"constant\", \"nearest\", \"wrap\"\n",
    "\n",
    "2. [layers.RandomZoom(height_factor, width_factor, fill_mode)](https://www.tensorflow.org/api_docs/python/tf/keras/layers/RandomZoom)\n",
    "    * height_factor/width_factor: positiver float, gibt den Faktor an, um welchen gezoomt wird\n",
    "    * fill_mode: \"reflect\", \"constant\", \"nearest\", \"wrap\"\n",
    "\n",
    "3. [layers.RandomContrast(factor)](https://www.tensorflow.org/api_docs/python/tf/keras/layers/RandomContrast)\n",
    "    * factor: positiver float, gibt den Kontrastfaktor an, um welchen dieser verändert wird (z.B. 0.1 = Kontrast wird um +-10% verändert)\n",
    "\n",
    "4. [layers.RandomRotation(factor, fill_mode)](https://www.tensorflow.org/api_docs/python/tf/keras/layers/RandomRotation)\n",
    "    * factor: positiver float, Anteil von zwei Pi, um welchen das Bild rotiert wird (z.B. 0.5 = Bild wird um +-Pi gedreht)\n",
    "\n",
    "5. [layers.RandomFlip(mode)](https://www.tensorflow.org/api_docs/python/tf/keras/layers/RandomFlip)\n",
    "    * mode: \"horizontal\", \"vertical\", \"horizontal_and_vertical\"\n",
    "\n",
    "* mehr Optionen: https://www.tensorflow.org/guide/keras/preprocessing_layers"
   ]
  },
  {
   "cell_type": "code",
   "execution_count": null,
   "id": "2eb4f835-5456-425f-886b-515787f845dd",
   "metadata": {},
   "outputs": [],
   "source": [
    "preprocessing_model = keras.models.Sequential([\n",
    "    keras.layers.Input(shape=(32, 32, 3)),\n",
    "    \n",
    "    #Definiere preprocessing layers hier:\n",
    "\n",
    "])\n",
    "preprocessing_model.summary()"
   ]
  },
  {
   "cell_type": "markdown",
   "id": "d7f825e1-088f-4697-993e-5422be1e2f89",
   "metadata": {},
   "source": [
    "Visualisiert die Preprocessed Bilder am Training Subset. Stelle sicher, dass die Bilder noch sinnvoll aussehen."
   ]
  },
  {
   "cell_type": "code",
   "execution_count": null,
   "id": "38265bff-bc96-4a9b-ad03-6aa94992c890",
   "metadata": {},
   "outputs": [],
   "source": [
    "plot_preprocessed_images(preprocessing_model, train_images)"
   ]
  },
  {
   "cell_type": "markdown",
   "id": "1cfc4f77-ab9a-4fd2-ab07-f994641989aa",
   "metadata": {},
   "source": [
    "### Abschnitt 2. CNN Modell\n",
    "**Aufgabe**: Erstelle dein eigenes CNN Modell mit beliebigen Layers\n",
    "\n",
    "Erinnerung: Es gibt 10 Klassen"
   ]
  },
  {
   "cell_type": "markdown",
   "id": "f4141b19-433f-49a3-b5ac-7fbf6851bdae",
   "metadata": {},
   "source": [
    "**Funktionen**\n",
    "- [Conv2D(filters, kernel_size, strides, padding)](https://www.tensorflow.org/api_docs/python/tf/keras/layers/Conv2D)\n",
    "- [MaxPooling2D(pool_size)](https://www.tensorflow.org/api_docs/python/tf/keras/layers/MaxPool2D)\n",
    "- [AveragePooling2D(pool_size)](https://www.tensorflow.org/api_docs/python/tf/keras/layers/AveragePooling2D)\n",
    "- [BatchNormalization()](https://www.tensorflow.org/api_docs/python/tf/keras/layers/BatchNormalization)\n",
    "- [Dropout(rate)](https://www.tensorflow.org/api_docs/python/tf/keras/layers/Dropout)\n",
    "- [Dense(units, activation)](https://www.tensorflow.org/api_docs/python/tf/keras/layers/Dense)"
   ]
  },
  {
   "cell_type": "code",
   "execution_count": null,
   "id": "2f39e6ae-c8b8-4f80-ab92-1d69f402afb4",
   "metadata": {},
   "outputs": [],
   "source": [
    "cnn_model = keras.models.Sequential([\n",
    "    keras.layers.Input(shape=(32, 32, 3)),\n",
    "\n",
    "    #Definiere convolutional/pooling layers hier:\n",
    "    \n",
    "    keras.layers.Flatten(),\n",
    "\n",
    "    #Definiere dense layers hier:\n",
    "    \n",
    "])\n",
    "cnn_model.summary()"
   ]
  },
  {
   "cell_type": "markdown",
   "id": "643678a1-d32e-4bbb-8fa3-21d58189b8b6",
   "metadata": {},
   "source": [
    "Kombiniert das preprocessing und CNN Modell"
   ]
  },
  {
   "cell_type": "code",
   "execution_count": null,
   "id": "58e231ca-1d42-4821-b9c1-b3c116bbf1be",
   "metadata": {},
   "outputs": [],
   "source": [
    "inputs = tf.keras.Input(shape=(32,32,3))\n",
    "output1 = preprocessing_model(inputs)\n",
    "output2 = cnn_model(output1)\n",
    "model= tf.keras.Model(inputs=inputs,outputs=output2)\n",
    "model.summary()"
   ]
  },
  {
   "cell_type": "markdown",
   "id": "de4c087c-5611-440d-bfa5-a138605292bf",
   "metadata": {},
   "source": [
    "### Abschnitt 3. Trainieren des Modells\n",
    "**Aufgabe**: Kompiliere und trainiere dein Modell mit [model.compile(...)](https://www.tensorflow.org/api_docs/python/tf/keras/Model#compile). Definiere den Verlust."
   ]
  },
  {
   "cell_type": "code",
   "execution_count": null,
   "id": "1b584380-95df-4974-bad7-f171a203aa93",
   "metadata": {},
   "outputs": [],
   "source": [
    "model.compile(optimizer=\"adam\", metrics=[\"accuracy\"], loss='''TODO''')"
   ]
  },
  {
   "cell_type": "code",
   "execution_count": null,
   "id": "31bc2631-625a-4cfa-8670-5a2902f8ccfa",
   "metadata": {},
   "outputs": [],
   "source": [
    "early_stopping = keras.callbacks.EarlyStopping(patience=10,restore_best_weights=True)\n",
    "checkpoint = keras.callbacks.ModelCheckpoint(\"your_best_model.keras\", save_best_only=True)"
   ]
  },
  {
   "cell_type": "markdown",
   "id": "79e8accf-d5cb-46d6-bce5-36ba0905ce00",
   "metadata": {},
   "source": [
    "**Aufgabe**: Verwende [model.fit(...)](https://www.tensorflow.org/api_docs/python/tf/keras/Model#fit), um das Modell zu trainieren. Wählen eine geeignete Anzahl von Epochs und eine geeignete batch Size. Mit Google Colab sollten auch Modelle mit höheren Epochen-Anzahlen relativ schnell trainieren (z.B. 20)\n",
    "\n",
    "Erinnerung: Das training Dataset ist train_images und train_labels"
   ]
  },
  {
   "cell_type": "code",
   "execution_count": null,
   "id": "55d797fa-e2dc-4d23-afef-98c826ac63c7",
   "metadata": {},
   "outputs": [],
   "source": [
    "history = model.fit('''TODO''', epochs = '''TODO''', batch_size='''TODO''', validation_data=(validation_images,validation_labels), callbacks=[checkpoint, early_stopping])"
   ]
  },
  {
   "cell_type": "markdown",
   "id": "de846623-c91f-48b6-9660-d53135c9deb1",
   "metadata": {},
   "source": [
    "### Breakpoint\n",
    "Während das Modell trainiert wird, können wir über eure Lösungen reden (bzw. Fragen klären)\n",
    "\n",
    "---"
   ]
  },
  {
   "cell_type": "markdown",
   "id": "e6745415-db8e-4337-9ebc-4ae4323dc5d2",
   "metadata": {},
   "source": [
    "Rollback zum besten Modell (Optional)"
   ]
  },
  {
   "cell_type": "code",
   "execution_count": null,
   "id": "bcfc2f56-329e-4823-823a-999c5a8464e1",
   "metadata": {},
   "outputs": [],
   "source": [
    "model = tf.keras.models.load_model('your_best_model.keras')"
   ]
  },
  {
   "cell_type": "markdown",
   "id": "e264fa30-2e6b-4642-b217-fb8f4f1a577b",
   "metadata": {},
   "source": [
    "### Abschnitt 4. Bewertung des Modells\n",
    "\n",
    "**Aufgabe**: Bewerte dein Modell mit [model.evaluate(x,y)](https://www.tensorflow.org/api_docs/python/tf/keras/Model#evaluate). Führe die Funktionen unten aus.\n",
    "\n",
    "Was macht dein Modell richtig und was falsch? Woran könnte das liegen?"
   ]
  },
  {
   "cell_type": "code",
   "execution_count": null,
   "id": "95109d1a-2712-4fc7-87fa-16cc2c25f88e",
   "metadata": {},
   "outputs": [],
   "source": [
    "test_loss, test_acc = model.evaluate(test_images, test_labels)\n",
    "print(test_loss)\n",
    "print(test_acc)"
   ]
  },
  {
   "cell_type": "markdown",
   "id": "2495e57d-a0f5-4712-b0f3-1f95dc694432",
   "metadata": {},
   "source": [
    "Stellt den Verlust, den Validierungsverlust, die Genauigkeit und die Validierungsgenauigkeit dar."
   ]
  },
  {
   "cell_type": "code",
   "execution_count": null,
   "id": "1c7beadc-f3d5-4add-8425-e0aa1c363b0c",
   "metadata": {},
   "outputs": [],
   "source": [
    "plot_history(history)"
   ]
  },
  {
   "cell_type": "markdown",
   "id": "2d168b6d-4f0f-4a07-975e-1acdc4ea9e22",
   "metadata": {},
   "source": [
    "Stellt die Confusion Matrix dar."
   ]
  },
  {
   "cell_type": "code",
   "execution_count": null,
   "id": "59c5aee6-6875-413e-b8b5-a8ee5002e77e",
   "metadata": {},
   "outputs": [],
   "source": [
    "plot_confusion(model, test_images, test_labels, class_names)"
   ]
  },
  {
   "cell_type": "markdown",
   "id": "e8ac723b-3c8e-4891-aaba-aa1519130517",
   "metadata": {},
   "source": [
    "Stellt die Bilder und die Wahrscheinlichkeiten der einzelnen Klassen dar, die das Modell vorhergesagt hat. Die richtige Klasse ist grün dargestellt, eine falsche Vorhersage ist rot dargestellt.\n",
    "\n",
    "Zeigt eine zufällige Teilmenge von Bildern an, sodass du die Funktion mehrmals ausführen kannst, um verschiedene Bilder zu sehen.\n",
    "\n",
    "Syntax der Überschrift: Predicted Class, Probability, (True Class)\n",
    "\n",
    "Klassen: airplane, automobile, bird, cat, deer, dog, frog, horse, ship, truck"
   ]
  },
  {
   "cell_type": "code",
   "execution_count": null,
   "id": "b1c06378-e394-4874-b9e2-a438a5db684d",
   "metadata": {},
   "outputs": [],
   "source": [
    "plot_predictions(model, test_images, test_labels, class_names)"
   ]
  }
 ],
 "metadata": {
  "kernelspec": {
   "display_name": "Python 3 (ipykernel)",
   "language": "python",
   "name": "python3"
  },
  "language_info": {
   "codemirror_mode": {
    "name": "ipython",
    "version": 3
   },
   "file_extension": ".py",
   "mimetype": "text/x-python",
   "name": "python",
   "nbconvert_exporter": "python",
   "pygments_lexer": "ipython3",
   "version": "3.10.11"
  }
 },
 "nbformat": 4,
 "nbformat_minor": 5
}
